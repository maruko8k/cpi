{
 "cells": [
  {
   "cell_type": "markdown",
   "metadata": {},
   "source": [
    "# Consumer Price Index analysis\n",
    "\n",
    "By Ben Welsh\n",
    "\n",
    "A rudimentary analysis of the Consumer Price Index published by the U.S. Bureau of Labor Statistics. It was developed to verify the accuracy of the [cpi](https://github.com/datadesk/cpi) open-source Python wrapper that eases access to the official government data. "
   ]
  },
  {
   "cell_type": "markdown",
   "metadata": {},
   "source": [
    "### Import Python tools"
   ]
  },
  {
   "cell_type": "code",
   "execution_count": 1,
   "metadata": {},
   "outputs": [],
   "source": [
    "import os\n",
    "import json\n",
    "import warnings\n",
    "import pandas as pd\n",
    "import altair as alt\n",
    "from datetime import date, datetime, timedelta"
   ]
  },
  {
   "cell_type": "code",
   "execution_count": 2,
   "metadata": {},
   "outputs": [],
   "source": [
    "import altair_latimes as lat"
   ]
  },
  {
   "cell_type": "code",
   "execution_count": 3,
   "metadata": {},
   "outputs": [
    {
     "data": {
      "text/plain": [
       "ThemeRegistry.enable('latimes')"
      ]
     },
     "execution_count": 3,
     "metadata": {},
     "output_type": "execute_result"
    }
   ],
   "source": [
    "alt.themes.register('latimes', lat.theme)\n",
    "alt.themes.enable('latimes')"
   ]
  },
  {
   "cell_type": "code",
   "execution_count": 4,
   "metadata": {},
   "outputs": [],
   "source": [
    "warnings.simplefilter(\"ignore\")"
   ]
  },
  {
   "cell_type": "markdown",
   "metadata": {},
   "source": [
    "### Import the development version of this library"
   ]
  },
  {
   "cell_type": "code",
   "execution_count": 5,
   "metadata": {},
   "outputs": [],
   "source": [
    "import os\n",
    "import sys\n",
    "this_dir = os.path.dirname(os.getcwd())\n",
    "sys.path.insert(0, this_dir)\n",
    "import cpi"
   ]
  },
  {
   "cell_type": "markdown",
   "metadata": {},
   "source": [
    "## Top-level numbers for the latest month"
   ]
  },
  {
   "cell_type": "code",
   "execution_count": 6,
   "metadata": {},
   "outputs": [],
   "source": [
    "def get_last13(**kwargs):\n",
    "    df = cpi.series.get(**kwargs).to_dataframe()\n",
    "    # Filter down to monthly values\n",
    "    df = df[df.period_type == 'monthly']\n",
    "    # Cut down to the last 13 months\n",
    "    df = df.sort_values(\"date\").tail(14)\n",
    "    # Return it\n",
    "    return df"
   ]
  },
  {
   "cell_type": "code",
   "execution_count": 7,
   "metadata": {},
   "outputs": [],
   "source": [
    "def analyze_last13(df):\n",
    "    # Calculate the monthly percentage change\n",
    "    df['pct_change'] = (df.value.pct_change()*100)\n",
    "    # Calculate the monthly percentage change\n",
    "    df['pct_change_rounded'] = df['pct_change'].round(1)\n",
    "    # Get latest months\n",
    "    latest_month, latest_change = df.sort_values(\"date\", ascending=False)[['date', 'pct_change_rounded']].to_records(index=False)[0]\n",
    "    previous_month, previous_change = df.sort_values(\"date\", ascending=False)[['date', 'pct_change_rounded']].to_records(index=False)[1]\n",
    "    # Pass it back\n",
    "    return dict(\n",
    "        latest_month=latest_month,\n",
    "        latest_change=latest_change,\n",
    "        previous_month=previous_month,\n",
    "        previous_change=previous_change,\n",
    "    )"
   ]
  },
  {
   "cell_type": "markdown",
   "metadata": {},
   "source": [
    "Query the seasonally-adjusted CPI-U, which is the variation used by the BLS in its release."
   ]
  },
  {
   "cell_type": "code",
   "execution_count": 8,
   "metadata": {},
   "outputs": [],
   "source": [
    "adjusted_cpiu_last13 = get_last13(seasonally_adjusted=True)"
   ]
  },
  {
   "cell_type": "code",
   "execution_count": 9,
   "metadata": {},
   "outputs": [],
   "source": [
    "adjusted_cpi_analysis = analyze_last13(adjusted_cpiu_last13)"
   ]
  },
  {
   "cell_type": "code",
   "execution_count": 10,
   "metadata": {},
   "outputs": [
    {
     "data": {
      "text/plain": [
       "{'latest_month': '2019-03-01',\n",
       " 'latest_change': 0.4,\n",
       " 'previous_month': '2019-02-01',\n",
       " 'previous_change': 0.2}"
      ]
     },
     "execution_count": 10,
     "metadata": {},
     "output_type": "execute_result"
    }
   ],
   "source": [
    "adjusted_cpi_analysis"
   ]
  },
  {
   "cell_type": "code",
   "execution_count": 11,
   "metadata": {},
   "outputs": [],
   "source": [
    "adjusted_food_analysis = analyze_last13(get_last13(seasonally_adjusted=True, items=\"Food\"))"
   ]
  },
  {
   "cell_type": "code",
   "execution_count": 12,
   "metadata": {},
   "outputs": [
    {
     "data": {
      "text/plain": [
       "{'latest_month': '2019-03-01',\n",
       " 'latest_change': 0.3,\n",
       " 'previous_month': '2019-02-01',\n",
       " 'previous_change': 0.4}"
      ]
     },
     "execution_count": 12,
     "metadata": {},
     "output_type": "execute_result"
    }
   ],
   "source": [
    "adjusted_food_analysis"
   ]
  },
  {
   "cell_type": "code",
   "execution_count": 13,
   "metadata": {},
   "outputs": [],
   "source": [
    "adjusted_energy_analysis = analyze_last13(get_last13(seasonally_adjusted=True, items=\"Energy\"))"
   ]
  },
  {
   "cell_type": "code",
   "execution_count": 14,
   "metadata": {},
   "outputs": [
    {
     "data": {
      "text/plain": [
       "{'latest_month': '2019-03-01',\n",
       " 'latest_change': 3.5,\n",
       " 'previous_month': '2019-02-01',\n",
       " 'previous_change': 0.4}"
      ]
     },
     "execution_count": 14,
     "metadata": {},
     "output_type": "execute_result"
    }
   ],
   "source": [
    "adjusted_energy_analysis"
   ]
  },
  {
   "cell_type": "code",
   "execution_count": 15,
   "metadata": {},
   "outputs": [],
   "source": [
    "adjusted_all_less_food_and_energy_analysis = analyze_last13(get_last13(seasonally_adjusted=True, items=\"All items less food and energy\"))"
   ]
  },
  {
   "cell_type": "code",
   "execution_count": 16,
   "metadata": {},
   "outputs": [
    {
     "data": {
      "text/plain": [
       "{'latest_month': '2019-03-01',\n",
       " 'latest_change': 0.1,\n",
       " 'previous_month': '2019-02-01',\n",
       " 'previous_change': 0.1}"
      ]
     },
     "execution_count": 16,
     "metadata": {},
     "output_type": "execute_result"
    }
   ],
   "source": [
    "adjusted_all_less_food_and_energy_analysis"
   ]
  },
  {
   "cell_type": "code",
   "execution_count": 17,
   "metadata": {},
   "outputs": [
    {
     "data": {
      "application/vnd.vegalite.v2+json": {
       "$schema": "https://vega.github.io/schema/vega-lite/v2.6.0.json",
       "config": {
        "arc": {
         "fill": "#82c6df"
        },
        "area": {
         "fill": "#82c6df"
        },
        "axis": {
         "labelFont": "Benton Gothic, sans",
         "labelFontSize": 11.5,
         "labelFontWeight": "normal",
         "titleFont": "Benton Gothic Bold, sans",
         "titleFontSize": 13,
         "titleFontWeight": "normal"
        },
        "axisX": {
         "labelAngle": 0,
         "labelPadding": 4,
         "tickSize": 3
        },
        "axisY": {
         "labelBaseline": "middle",
         "maxExtent": 45,
         "minExtent": 45,
         "tickSize": 2,
         "titleAlign": "left",
         "titleAngle": 0,
         "titleX": -45,
         "titleY": -11
        },
        "background": "#ffffff",
        "bar": {
         "fill": "#82c6df"
        },
        "legend": {
         "labelFont": "Benton Gothic, sans",
         "labelFontSize": 11.5,
         "symbolType": "square",
         "titleFont": "Benton Gothic Bold, sans",
         "titleFontSize": 13,
         "titleFontWeight": "normal"
        },
        "line": {
         "stroke": "#82c6df",
         "strokeWidth": 3
        },
        "path": {
         "stroke": "#82c6df"
        },
        "point": {
         "stroke": "#82c6df"
        },
        "range": {
         "category": [
          "#3580b1",
          "#ec8431",
          "#ab7fb4",
          "#c89d29",
          "#adc839",
          "#829eb1"
         ],
         "diverging": [
          "#e68a4f",
          "#f4bb6a",
          "#f9e39c",
          "#dadfe2",
          "#a6b7c6",
          "#849eae"
         ],
         "heatmap": [
          "#fbf2c7",
          "#f9e39c",
          "#f8d36e",
          "#f4bb6a",
          "#e68a4f",
          "#d15a40",
          "#ab4232"
         ],
         "ordinal": [
          "#fbf2c7",
          "#f9e39c",
          "#f8d36e",
          "#f4bb6a",
          "#e68a4f",
          "#d15a40",
          "#ab4232"
         ],
         "ramp": [
          "#fbf2c7",
          "#f9e39c",
          "#f8d36e",
          "#f4bb6a",
          "#e68a4f",
          "#d15a40",
          "#ab4232"
         ]
        },
        "rect": {
         "fill": "#82c6df"
        },
        "shape": {
         "stroke": "#82c6df"
        },
        "symbol": {
         "fill": "#82c6df",
         "size": 30
        },
        "title": {
         "anchor": "start",
         "font": "Benton Gothic Bold, sans",
         "fontColor": "#000000",
         "fontSize": 22,
         "fontWeight": "normal"
        },
        "view": {
         "height": 450,
         "width": 800
        }
       },
       "datasets": {
        "data-7ae4a14a61a782efd715a24aac04eca9": [
         {
          "date": "2018-02-01",
          "pct_change": null,
          "pct_change_rounded": null,
          "period_abbreviation": "FEB",
          "period_code": "M02",
          "period_id": "M02",
          "period_month": 2,
          "period_name": "February",
          "period_type": "monthly",
          "series_area_code": "0000",
          "series_area_id": "0000",
          "series_area_name": "U.S. city average",
          "series_id": "CUSR0000SA0",
          "series_items_code": "SA0",
          "series_items_id": "SA0",
          "series_items_name": "All items",
          "series_periodicity_code": "R",
          "series_periodicity_id": "R",
          "series_periodicity_name": "Monthly",
          "series_seasonally_adjusted": true,
          "series_survey": "All urban consumers",
          "series_title": "All items in U.S. city average, all urban consumers, seasonally adjusted",
          "value": 249.369,
          "year": 2018
         },
         {
          "date": "2018-03-01",
          "pct_change": 0.05173056795351183,
          "pct_change_rounded": 0.1,
          "period_abbreviation": "MAR",
          "period_code": "M03",
          "period_id": "M03",
          "period_month": 3,
          "period_name": "March",
          "period_type": "monthly",
          "series_area_code": "0000",
          "series_area_id": "0000",
          "series_area_name": "U.S. city average",
          "series_id": "CUSR0000SA0",
          "series_items_code": "SA0",
          "series_items_id": "SA0",
          "series_items_name": "All items",
          "series_periodicity_code": "R",
          "series_periodicity_id": "R",
          "series_periodicity_name": "Monthly",
          "series_seasonally_adjusted": true,
          "series_survey": "All urban consumers",
          "series_title": "All items in U.S. city average, all urban consumers, seasonally adjusted",
          "value": 249.498,
          "year": 2018
         },
         {
          "date": "2018-04-01",
          "pct_change": 0.1835686057603647,
          "pct_change_rounded": 0.2,
          "period_abbreviation": "APR",
          "period_code": "M04",
          "period_id": "M04",
          "period_month": 4,
          "period_name": "April",
          "period_type": "monthly",
          "series_area_code": "0000",
          "series_area_id": "0000",
          "series_area_name": "U.S. city average",
          "series_id": "CUSR0000SA0",
          "series_items_code": "SA0",
          "series_items_id": "SA0",
          "series_items_name": "All items",
          "series_periodicity_code": "R",
          "series_periodicity_id": "R",
          "series_periodicity_name": "Monthly",
          "series_seasonally_adjusted": true,
          "series_survey": "All urban consumers",
          "series_title": "All items in U.S. city average, all urban consumers, seasonally adjusted",
          "value": 249.956,
          "year": 2018
         },
         {
          "date": "2018-05-01",
          "pct_change": 0.2760485845508809,
          "pct_change_rounded": 0.3,
          "period_abbreviation": "MAY",
          "period_code": "M05",
          "period_id": "M05",
          "period_month": 5,
          "period_name": "May",
          "period_type": "monthly",
          "series_area_code": "0000",
          "series_area_id": "0000",
          "series_area_name": "U.S. city average",
          "series_id": "CUSR0000SA0",
          "series_items_code": "SA0",
          "series_items_id": "SA0",
          "series_items_name": "All items",
          "series_periodicity_code": "R",
          "series_periodicity_id": "R",
          "series_periodicity_name": "Monthly",
          "series_seasonally_adjusted": true,
          "series_survey": "All urban consumers",
          "series_title": "All items in U.S. city average, all urban consumers, seasonally adjusted",
          "value": 250.646,
          "year": 2018
         },
         {
          "date": "2018-06-01",
          "pct_change": 0.1946969032021295,
          "pct_change_rounded": 0.2,
          "period_abbreviation": "JUN",
          "period_code": "M06",
          "period_id": "M06",
          "period_month": 6,
          "period_name": "June",
          "period_type": "monthly",
          "series_area_code": "0000",
          "series_area_id": "0000",
          "series_area_name": "U.S. city average",
          "series_id": "CUSR0000SA0",
          "series_items_code": "SA0",
          "series_items_id": "SA0",
          "series_items_name": "All items",
          "series_periodicity_code": "R",
          "series_periodicity_id": "R",
          "series_periodicity_name": "Monthly",
          "series_seasonally_adjusted": true,
          "series_survey": "All urban consumers",
          "series_title": "All items in U.S. city average, all urban consumers, seasonally adjusted",
          "value": 251.134,
          "year": 2018
         },
         {
          "date": "2018-07-01",
          "pct_change": 0.18436372613823693,
          "pct_change_rounded": 0.2,
          "period_abbreviation": "JUL",
          "period_code": "M07",
          "period_id": "M07",
          "period_month": 7,
          "period_name": "July",
          "period_type": "monthly",
          "series_area_code": "0000",
          "series_area_id": "0000",
          "series_area_name": "U.S. city average",
          "series_id": "CUSR0000SA0",
          "series_items_code": "SA0",
          "series_items_id": "SA0",
          "series_items_name": "All items",
          "series_periodicity_code": "R",
          "series_periodicity_id": "R",
          "series_periodicity_name": "Monthly",
          "series_seasonally_adjusted": true,
          "series_survey": "All urban consumers",
          "series_title": "All items in U.S. city average, all urban consumers, seasonally adjusted",
          "value": 251.597,
          "year": 2018
         },
         {
          "date": "2018-08-01",
          "pct_change": 0.11208400736097968,
          "pct_change_rounded": 0.1,
          "period_abbreviation": "AUG",
          "period_code": "M08",
          "period_id": "M08",
          "period_month": 8,
          "period_name": "August",
          "period_type": "monthly",
          "series_area_code": "0000",
          "series_area_id": "0000",
          "series_area_name": "U.S. city average",
          "series_id": "CUSR0000SA0",
          "series_items_code": "SA0",
          "series_items_id": "SA0",
          "series_items_name": "All items",
          "series_periodicity_code": "R",
          "series_periodicity_id": "R",
          "series_periodicity_name": "Monthly",
          "series_seasonally_adjusted": true,
          "series_survey": "All urban consumers",
          "series_title": "All items in U.S. city average, all urban consumers, seasonally adjusted",
          "value": 251.879,
          "year": 2018
         },
         {
          "date": "2018-09-01",
          "pct_change": 0.0520090996073419,
          "pct_change_rounded": 0.1,
          "period_abbreviation": "SEP",
          "period_code": "M09",
          "period_id": "M09",
          "period_month": 9,
          "period_name": "September",
          "period_type": "monthly",
          "series_area_code": "0000",
          "series_area_id": "0000",
          "series_area_name": "U.S. city average",
          "series_id": "CUSR0000SA0",
          "series_items_code": "SA0",
          "series_items_id": "SA0",
          "series_items_name": "All items",
          "series_periodicity_code": "R",
          "series_periodicity_id": "R",
          "series_periodicity_name": "Monthly",
          "series_seasonally_adjusted": true,
          "series_survey": "All urban consumers",
          "series_title": "All items in U.S. city average, all urban consumers, seasonally adjusted",
          "value": 252.01,
          "year": 2018
         },
         {
          "date": "2018-10-01",
          "pct_change": 0.31109876592199104,
          "pct_change_rounded": 0.3,
          "period_abbreviation": "OCT",
          "period_code": "M10",
          "period_id": "M10",
          "period_month": 10,
          "period_name": "October",
          "period_type": "monthly",
          "series_area_code": "0000",
          "series_area_id": "0000",
          "series_area_name": "U.S. city average",
          "series_id": "CUSR0000SA0",
          "series_items_code": "SA0",
          "series_items_id": "SA0",
          "series_items_name": "All items",
          "series_periodicity_code": "R",
          "series_periodicity_id": "R",
          "series_periodicity_name": "Monthly",
          "series_seasonally_adjusted": true,
          "series_survey": "All urban consumers",
          "series_title": "All items in U.S. city average, all urban consumers, seasonally adjusted",
          "value": 252.794,
          "year": 2018
         },
         {
          "date": "2018-11-01",
          "pct_change": -0.013449686305855302,
          "pct_change_rounded": 0,
          "period_abbreviation": "NOV",
          "period_code": "M11",
          "period_id": "M11",
          "period_month": 11,
          "period_name": "November",
          "period_type": "monthly",
          "series_area_code": "0000",
          "series_area_id": "0000",
          "series_area_name": "U.S. city average",
          "series_id": "CUSR0000SA0",
          "series_items_code": "SA0",
          "series_items_id": "SA0",
          "series_items_name": "All items",
          "series_periodicity_code": "R",
          "series_periodicity_id": "R",
          "series_periodicity_name": "Monthly",
          "series_seasonally_adjusted": true,
          "series_survey": "All urban consumers",
          "series_title": "All items in U.S. city average, all urban consumers, seasonally adjusted",
          "value": 252.76,
          "year": 2018
         },
         {
          "date": "2018-12-01",
          "pct_change": -0.01463839215064544,
          "pct_change_rounded": 0,
          "period_abbreviation": "DEC",
          "period_code": "M12",
          "period_id": "M12",
          "period_month": 12,
          "period_name": "December",
          "period_type": "monthly",
          "series_area_code": "0000",
          "series_area_id": "0000",
          "series_area_name": "U.S. city average",
          "series_id": "CUSR0000SA0",
          "series_items_code": "SA0",
          "series_items_id": "SA0",
          "series_items_name": "All items",
          "series_periodicity_code": "R",
          "series_periodicity_id": "R",
          "series_periodicity_name": "Monthly",
          "series_seasonally_adjusted": true,
          "series_survey": "All urban consumers",
          "series_title": "All items in U.S. city average, all urban consumers, seasonally adjusted",
          "value": 252.723,
          "year": 2018
         },
         {
          "date": "2019-01-01",
          "pct_change": -0.01978450714814617,
          "pct_change_rounded": 0,
          "period_abbreviation": "JAN",
          "period_code": "M01",
          "period_id": "M01",
          "period_month": 1,
          "period_name": "January",
          "period_type": "monthly",
          "series_area_code": "0000",
          "series_area_id": "0000",
          "series_area_name": "U.S. city average",
          "series_id": "CUSR0000SA0",
          "series_items_code": "SA0",
          "series_items_id": "SA0",
          "series_items_name": "All items",
          "series_periodicity_code": "R",
          "series_periodicity_id": "R",
          "series_periodicity_name": "Monthly",
          "series_seasonally_adjusted": true,
          "series_survey": "All urban consumers",
          "series_title": "All items in U.S. city average, all urban consumers, seasonally adjusted",
          "value": 252.673,
          "year": 2019
         },
         {
          "date": "2019-02-01",
          "pct_change": 0.17413811527151601,
          "pct_change_rounded": 0.2,
          "period_abbreviation": "FEB",
          "period_code": "M02",
          "period_id": "M02",
          "period_month": 2,
          "period_name": "February",
          "period_type": "monthly",
          "series_area_code": "0000",
          "series_area_id": "0000",
          "series_area_name": "U.S. city average",
          "series_id": "CUSR0000SA0",
          "series_items_code": "SA0",
          "series_items_id": "SA0",
          "series_items_name": "All items",
          "series_periodicity_code": "R",
          "series_periodicity_id": "R",
          "series_periodicity_name": "Monthly",
          "series_seasonally_adjusted": true,
          "series_survey": "All urban consumers",
          "series_title": "All items in U.S. city average, all urban consumers, seasonally adjusted",
          "value": 253.113,
          "year": 2019
         },
         {
          "date": "2019-03-01",
          "pct_change": 0.40890827417003894,
          "pct_change_rounded": 0.4,
          "period_abbreviation": "MAR",
          "period_code": "M03",
          "period_id": "M03",
          "period_month": 3,
          "period_name": "March",
          "period_type": "monthly",
          "series_area_code": "0000",
          "series_area_id": "0000",
          "series_area_name": "U.S. city average",
          "series_id": "CUSR0000SA0",
          "series_items_code": "SA0",
          "series_items_id": "SA0",
          "series_items_name": "All items",
          "series_periodicity_code": "R",
          "series_periodicity_id": "R",
          "series_periodicity_name": "Monthly",
          "series_seasonally_adjusted": true,
          "series_survey": "All urban consumers",
          "series_title": "All items in U.S. city average, all urban consumers, seasonally adjusted",
          "value": 254.148,
          "year": 2019
         }
        ]
       },
       "layer": [
        {
         "data": {
          "name": "data-7ae4a14a61a782efd715a24aac04eca9"
         },
         "encoding": {
          "x": {
           "axis": {
            "labelAngle": 0,
            "title": null
           },
           "field": "date",
           "timeUnit": "utcyearmonth",
           "type": "ordinal"
          },
          "y": {
           "axis": {
            "title": null
           },
           "field": "pct_change_rounded",
           "scale": {
            "domain": [
             -0.11978450714814617,
             0.45890827417003893
            ]
           },
           "type": "quantitative"
          }
         },
         "mark": "bar",
         "title": "One-month percent change in CPI for All Urban Consumers (CPI-U), seasonally adjusted",
         "width": 700
        },
        {
         "data": {
          "name": "data-7ae4a14a61a782efd715a24aac04eca9"
         },
         "encoding": {
          "text": {
           "field": "pct_change_rounded",
           "type": "quantitative"
          },
          "x": {
           "field": "date",
           "timeUnit": "utcyearmonth",
           "type": "ordinal"
          },
          "y": {
           "field": "pct_change_rounded",
           "type": "quantitative"
          }
         },
         "mark": {
          "align": "center",
          "baseline": "middle",
          "dy": -10,
          "fontSize": 14,
          "type": "text"
         },
         "title": "One-month percent change in CPI for All Urban Consumers (CPI-U), seasonally adjusted",
         "transform": [
          {
           "filter": "(datum.pct_change > 0)"
          }
         ],
         "width": 700
        },
        {
         "data": {
          "name": "data-7ae4a14a61a782efd715a24aac04eca9"
         },
         "encoding": {
          "text": {
           "field": "pct_change_rounded",
           "type": "quantitative"
          },
          "x": {
           "field": "date",
           "timeUnit": "utcyearmonth",
           "type": "ordinal"
          },
          "y": {
           "field": "pct_change_rounded",
           "type": "quantitative"
          }
         },
         "mark": {
          "align": "center",
          "baseline": "middle",
          "dy": 12,
          "fontSize": 14,
          "type": "text"
         },
         "title": "One-month percent change in CPI for All Urban Consumers (CPI-U), seasonally adjusted",
         "transform": [
          {
           "filter": "(datum.pct_change < 0)"
          }
         ],
         "width": 700
        }
       ]
      },
      "image/png": "[encoded data removed]",
      "text/plain": [
       "<VegaLite 2 object>\n",
       "\n",
       "If you see this message, it means the renderer has not been properly enabled\n",
       "for the frontend that you are using. For more information, see\n",
       "https://altair-viz.github.io/user_guide/troubleshooting.html\n"
      ]
     },
     "execution_count": 17,
     "metadata": {},
     "output_type": "execute_result"
    }
   ],
   "source": [
    "base = alt.Chart(\n",
    "    adjusted_cpiu_last13, \n",
    "    title=\"One-month percent change in CPI for All Urban Consumers (CPI-U), seasonally adjusted\"\n",
    ").properties(width=700)\n",
    "\n",
    "bars = base.mark_bar().encode(\n",
    "    x=alt.X(\n",
    "        \"date:O\",\n",
    "        timeUnit=\"utcyearmonth\",\n",
    "        axis=alt.Axis(title=None, labelAngle=0),\n",
    "    ),\n",
    "    y=alt.Y(\n",
    "        \"pct_change_rounded:Q\",\n",
    "        axis=alt.Axis(title=None),\n",
    "        scale=alt.Scale(domain=[\n",
    "            adjusted_cpiu_last13['pct_change'].min()-0.1,\n",
    "            adjusted_cpiu_last13['pct_change'].max()+0.05\n",
    "        ])\n",
    "    )\n",
    ")\n",
    "\n",
    "text = base.encode(\n",
    "    x=alt.X(\"date:O\", timeUnit=\"utcyearmonth\"),\n",
    "    y=\"pct_change_rounded:Q\",\n",
    "    text='pct_change_rounded'\n",
    ")\n",
    "\n",
    "textAbove = text.transform_filter(alt.datum.pct_change > 0).mark_text(\n",
    "    align='center',\n",
    "    baseline='middle',\n",
    "    fontSize=14,\n",
    "    dy=-10\n",
    ")\n",
    "\n",
    "textBelow = text.transform_filter(alt.datum.pct_change < 0).mark_text(\n",
    "    align='center',\n",
    "    baseline='middle',\n",
    "    fontSize=14,\n",
    "    dy=12\n",
    ")\n",
    "\n",
    "bars + textAbove + textBelow"
   ]
  },
  {
   "cell_type": "markdown",
   "metadata": {},
   "source": [
    "Get the year over year change"
   ]
  },
  {
   "cell_type": "code",
   "execution_count": 18,
   "metadata": {},
   "outputs": [],
   "source": [
    "unadjusted_cpiu = cpi.series.get(seasonally_adjusted=False).to_dataframe()"
   ]
  },
  {
   "cell_type": "code",
   "execution_count": null,
   "metadata": {},
   "outputs": [],
   "source": [
    "unadjusted_cpiu_monthly = unadjusted_cpiu[unadjusted_cpiu.period_type == 'monthly'].sort_values(\"date\", ascending=False)"
   ]
  },
  {
   "cell_type": "code",
   "execution_count": null,
   "metadata": {},
   "outputs": [
    {
     "data": {
      "text/html": [
       "<div>\n",
       "<style scoped>\n",
       "    .dataframe tbody tr th:only-of-type {\n",
       "        vertical-align: middle;\n",
       "    }\n",
       "\n",
       "    .dataframe tbody tr th {\n",
       "        vertical-align: top;\n",
       "    }\n",
       "\n",
       "    .dataframe thead th {\n",
       "        text-align: right;\n",
       "    }\n",
       "</style>\n",
       "<table border=\"1\" class=\"dataframe\">\n",
       "  <thead>\n",
       "    <tr style=\"text-align: right;\">\n",
       "      <th></th>\n",
       "      <th>date</th>\n",
       "      <th>value</th>\n",
       "    </tr>\n",
       "  </thead>\n",
       "  <tbody>\n",
       "    <tr>\n",
       "      <th>372</th>\n",
       "      <td>2019-03-01</td>\n",
       "      <td>254.202</td>\n",
       "    </tr>\n",
       "    <tr>\n",
       "      <th>371</th>\n",
       "      <td>2019-02-01</td>\n",
       "      <td>252.776</td>\n",
       "    </tr>\n",
       "    <tr>\n",
       "      <th>370</th>\n",
       "      <td>2019-01-01</td>\n",
       "      <td>251.712</td>\n",
       "    </tr>\n",
       "    <tr>\n",
       "      <th>369</th>\n",
       "      <td>2018-12-01</td>\n",
       "      <td>251.233</td>\n",
       "    </tr>\n",
       "    <tr>\n",
       "      <th>368</th>\n",
       "      <td>2018-11-01</td>\n",
       "      <td>252.038</td>\n",
       "    </tr>\n",
       "    <tr>\n",
       "      <th>367</th>\n",
       "      <td>2018-10-01</td>\n",
       "      <td>252.885</td>\n",
       "    </tr>\n",
       "    <tr>\n",
       "      <th>366</th>\n",
       "      <td>2018-09-01</td>\n",
       "      <td>252.439</td>\n",
       "    </tr>\n",
       "    <tr>\n",
       "      <th>365</th>\n",
       "      <td>2018-08-01</td>\n",
       "      <td>252.146</td>\n",
       "    </tr>\n",
       "    <tr>\n",
       "      <th>364</th>\n",
       "      <td>2018-07-01</td>\n",
       "      <td>252.006</td>\n",
       "    </tr>\n",
       "    <tr>\n",
       "      <th>363</th>\n",
       "      <td>2018-06-01</td>\n",
       "      <td>251.989</td>\n",
       "    </tr>\n",
       "    <tr>\n",
       "      <th>362</th>\n",
       "      <td>2018-05-01</td>\n",
       "      <td>251.588</td>\n",
       "    </tr>\n",
       "    <tr>\n",
       "      <th>361</th>\n",
       "      <td>2018-04-01</td>\n",
       "      <td>250.546</td>\n",
       "    </tr>\n",
       "    <tr>\n",
       "      <th>360</th>\n",
       "      <td>2018-03-01</td>\n",
       "      <td>249.554</td>\n",
       "    </tr>\n",
       "  </tbody>\n",
       "</table>\n",
       "</div>"
      ],
      "text/plain": [
       "           date    value\n",
       "372  2019-03-01  254.202\n",
       "371  2019-02-01  252.776\n",
       "370  2019-01-01  251.712\n",
       "369  2018-12-01  251.233\n",
       "368  2018-11-01  252.038\n",
       "367  2018-10-01  252.885\n",
       "366  2018-09-01  252.439\n",
       "365  2018-08-01  252.146\n",
       "364  2018-07-01  252.006\n",
       "363  2018-06-01  251.989\n",
       "362  2018-05-01  251.588\n",
       "361  2018-04-01  250.546\n",
       "360  2018-03-01  249.554"
      ]
     },
     "execution_count": 20,
     "metadata": {},
     "output_type": "execute_result"
    }
   ],
   "source": [
    "unadjusted_cpiu_monthly.head(13)[[\n",
    "    'date',\n",
    "    'value'\n",
    "]]"
   ]
  },
  {
   "cell_type": "code",
   "execution_count": null,
   "metadata": {},
   "outputs": [],
   "source": [
    "lastest_unadjusted, one_year_ago_unadjusted = pd.concat([\n",
    "    unadjusted_cpiu_monthly.head(1),\n",
    "    unadjusted_cpiu_monthly.head(13).tail(1),\n",
    "]).value.tolist()"
   ]
  },
  {
   "cell_type": "code",
   "execution_count": null,
   "metadata": {},
   "outputs": [
    {
     "data": {
      "text/plain": [
       "(254.202, 249.554)"
      ]
     },
     "execution_count": 22,
     "metadata": {},
     "output_type": "execute_result"
    }
   ],
   "source": [
    "lastest_unadjusted, one_year_ago_unadjusted"
   ]
  },
  {
   "cell_type": "code",
   "execution_count": null,
   "metadata": {},
   "outputs": [],
   "source": [
    "yoy_change = round(((lastest_unadjusted-one_year_ago_unadjusted)/one_year_ago_unadjusted)*100, 1)"
   ]
  },
  {
   "cell_type": "code",
   "execution_count": null,
   "metadata": {},
   "outputs": [
    {
     "data": {
      "text/plain": [
       "1.9"
      ]
     },
     "execution_count": 24,
     "metadata": {},
     "output_type": "execute_result"
    }
   ],
   "source": [
    "yoy_change"
   ]
  },
  {
   "cell_type": "code",
   "execution_count": null,
   "metadata": {},
   "outputs": [],
   "source": [
    "with open(\"./latest.json\", \"w\") as fp:\n",
    "    fp.write(json.dumps(dict(\n",
    "        all=adjusted_cpi_analysis,\n",
    "        food=adjusted_food_analysis,\n",
    "        energy=adjusted_energy_analysis,\n",
    "        less_food_and_energy=adjusted_all_less_food_and_energy_analysis,\n",
    "        yoy_change=yoy_change,\n",
    "    )))"
   ]
  },
  {
   "cell_type": "code",
   "execution_count": null,
   "metadata": {},
   "outputs": [],
   "source": [
    "adjusted_cpiu_last13[~pd.isnull(adjusted_cpiu_last13.pct_change_rounded)][[\n",
    "    'date',\n",
    "    'pct_change',\n",
    "    'pct_change_rounded'\n",
    "]].to_csv(\"./cpi-mom.csv\", index=False)"
   ]
  },
  {
   "cell_type": "markdown",
   "metadata": {},
   "source": [
    "### Match category analysis published by the BLS\n",
    "\n",
    "In an October 2018 [post](https://www.bls.gov/opub/ted/2018/consumer-prices-up-2-point-3-percent-over-year-ended-september-2018.htm) the BLS published the following chart showing the month to month percentage change in the Consumer Price Index for All Urban Consumers across a select group of categories. We will replicate it below.\n",
    "\n",
    "![](https://i.imgur.com/54RcrID.png)"
   ]
  },
  {
   "cell_type": "markdown",
   "metadata": {},
   "source": [
    "Query the data series charted by the BLS"
   ]
  },
  {
   "cell_type": "code",
   "execution_count": null,
   "metadata": {},
   "outputs": [],
   "source": [
    "all_items = cpi.series.get(seasonally_adjusted=False).to_dataframe()"
   ]
  },
  {
   "cell_type": "code",
   "execution_count": null,
   "metadata": {},
   "outputs": [],
   "source": [
    "energy = cpi.series.get(items=\"Energy\", seasonally_adjusted=False).to_dataframe()"
   ]
  },
  {
   "cell_type": "code",
   "execution_count": null,
   "metadata": {},
   "outputs": [],
   "source": [
    "food = cpi.series.get(items=\"Food\", seasonally_adjusted=False).to_dataframe()"
   ]
  },
  {
   "cell_type": "markdown",
   "metadata": {},
   "source": [
    "Write a function to prepare each series for presentation"
   ]
  },
  {
   "cell_type": "code",
   "execution_count": null,
   "metadata": {},
   "outputs": [],
   "source": [
    "def prep_yoy(df):\n",
    "    # Trim down to monthly values\n",
    "    df = df[df.period_type == 'monthly']\n",
    "    # Calculate percentage change year to year\n",
    "    df['pct_change'] = df.value.pct_change(12)\n",
    "    # Trim down to the last 13 months\n",
    "    return df.sort_values(\"date\")"
   ]
  },
  {
   "cell_type": "code",
   "execution_count": null,
   "metadata": {},
   "outputs": [],
   "source": [
    "all_items_prepped = prep_yoy(all_items)"
   ]
  },
  {
   "cell_type": "code",
   "execution_count": null,
   "metadata": {},
   "outputs": [],
   "source": [
    "energy_prepped = prep_yoy(energy)"
   ]
  },
  {
   "cell_type": "code",
   "execution_count": null,
   "metadata": {},
   "outputs": [],
   "source": [
    "food_prepped = prep_yoy(food)"
   ]
  },
  {
   "cell_type": "code",
   "execution_count": null,
   "metadata": {},
   "outputs": [],
   "source": [
    "three_cats = pd.concat([\n",
    "    all_items_prepped.tail(12*10),\n",
    "    energy_prepped.tail(12*10),\n",
    "    food_prepped.tail(12*10)\n",
    "])"
   ]
  },
  {
   "cell_type": "code",
   "execution_count": null,
   "metadata": {},
   "outputs": [],
   "source": [
    "base = alt.Chart(\n",
    "    three_cats,\n",
    "    title=\"12-month percentage change, Consumer Price Index, selected categories\"\n",
    ").encode(\n",
    "    x=alt.X(\n",
    "        \"date:T\",\n",
    "        timeUnit=\"yearmonth\",\n",
    "        axis=alt.Axis(\n",
    "            title=None,\n",
    "            labelAngle=0,\n",
    "            grid=False,\n",
    "            # A truly gnarly hack from https://github.com/altair-viz/altair/issues/187\n",
    "            values=list(pd.to_datetime([\n",
    "                '2008-11-01',\n",
    "                '2010-11-01',\n",
    "                '2012-11-01',\n",
    "                '2014-11-01',\n",
    "                '2016-11-01',\n",
    "                '2018-11-01'\n",
    "            ]).astype(int) / 10 ** 6)\n",
    "        ),\n",
    "    ),\n",
    "    y=alt.Y(\n",
    "        \"pct_change:Q\",\n",
    "        axis=alt.Axis(title=None, format='%'),\n",
    "        scale=alt.Scale(domain=[-0.4, 0.3])\n",
    "    ),\n",
    "    color=alt.Color(\n",
    "        \"series_items_name:N\",\n",
    "        legend=alt.Legend(title=\"Category\"),\n",
    "        # scale=alt.Scale(range=[\"#423a51\", \"#449cb0\", \"#d09972\"])\n",
    "    )\n",
    ")\n",
    "\n",
    "all_items = base.transform_filter(\n",
    "    alt.datum.series_items_name == 'All items'\n",
    ").mark_line(strokeDash=[3, 2])\n",
    "\n",
    "other_items = base.transform_filter(\n",
    "    alt.datum.series_items_name != 'All items'\n",
    ").mark_line()\n",
    "\n",
    "(all_items + other_items).properties(width=600)"
   ]
  },
  {
   "cell_type": "code",
   "execution_count": null,
   "metadata": {},
   "outputs": [],
   "source": [
    "three_cats.to_csv(\"./three-categories-yoy.csv\", index=False)"
   ]
  },
  {
   "cell_type": "markdown",
   "metadata": {},
   "source": [
    "### A similar chart with a shorter timeframe"
   ]
  },
  {
   "cell_type": "markdown",
   "metadata": {},
   "source": [
    "Here's another one."
   ]
  },
  {
   "cell_type": "markdown",
   "metadata": {},
   "source": [
    "![](https://i.imgur.com/h1nA41O.png)"
   ]
  },
  {
   "cell_type": "code",
   "execution_count": null,
   "metadata": {},
   "outputs": [],
   "source": [
    "all_less_energy_and_food = cpi.series.get(items=\"All items less food and energy\", seasonally_adjusted=False).to_dataframe()"
   ]
  },
  {
   "cell_type": "code",
   "execution_count": null,
   "metadata": {},
   "outputs": [],
   "source": [
    "all_less_energy_and_food_prepped = prep_yoy(all_less_energy_and_food)"
   ]
  },
  {
   "cell_type": "code",
   "execution_count": null,
   "metadata": {},
   "outputs": [],
   "source": [
    "two_cats = pd.concat([\n",
    "    all_items_prepped.tail(13),\n",
    "    all_less_energy_and_food_prepped.tail(13),\n",
    "])"
   ]
  },
  {
   "cell_type": "code",
   "execution_count": null,
   "metadata": {},
   "outputs": [],
   "source": [
    "base = alt.Chart(\n",
    "    two_cats,\n",
    "    title=\"12-month percent change in CPI for All Urban Consumers (CPI-U), not seasonally adjusted\"\n",
    ").encode(\n",
    "    x=alt.X(\n",
    "        \"date:T\",\n",
    "        timeUnit=\"utcyearmonth\",\n",
    "        axis=alt.Axis(\n",
    "            title=None,\n",
    "            labelAngle=0,\n",
    "            grid=False,\n",
    "            format=\"%b\"\n",
    "        )\n",
    "    ),\n",
    "    y=alt.Y(\n",
    "        \"pct_change:Q\",\n",
    "        axis=alt.Axis(title=\"Percent change\", format='%'),\n",
    "        scale=alt.Scale(domain=[0.012, 0.03])\n",
    "    ),\n",
    "    color=alt.Color(\n",
    "        \"series_items_name:N\",\n",
    "        legend=alt.Legend(title=\"Category\"),\n",
    "        # scale=alt.Scale(range=[\"#336EFF\", \"#B03A2E\",])\n",
    "    )\n",
    ")\n",
    "\n",
    "line = base.mark_line(strokeWidth=0.85)\n",
    "exes = base.transform_filter(alt.datum.series_items_name == 'All items').mark_point(shape=\"triangle-down\", size=25)\n",
    "points = base.transform_filter(alt.datum.series_items_name == 'All items less food and energy').mark_point(size=25, fill=\"#B03A2E\")\n",
    "\n",
    "(line + exes + points).properties(width=600, height=225)"
   ]
  },
  {
   "cell_type": "code",
   "execution_count": null,
   "metadata": {},
   "outputs": [],
   "source": [
    "two_cats.to_csv(\"./two-categories-yoy.csv\", index=False)"
   ]
  }
 ],
 "metadata": {
  "kernelspec": {
   "display_name": "Python 3",
   "language": "python",
   "name": "python3"
  },
  "language_info": {
   "codemirror_mode": {
    "name": "ipython",
    "version": 3
   },
   "file_extension": ".py",
   "mimetype": "text/x-python",
   "name": "python",
   "nbconvert_exporter": "python",
   "pygments_lexer": "ipython3",
   "version": "3.6.7"
  }
 },
 "nbformat": 4,
 "nbformat_minor": 2
}
