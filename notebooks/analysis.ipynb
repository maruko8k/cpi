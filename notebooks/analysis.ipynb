{
 "cells": [
  {
   "cell_type": "markdown",
   "metadata": {},
   "source": [
    "# Consumer Price Index analysis\n",
    "\n",
    "By Ben Welsh\n",
    "\n",
    "A rudimentary analysis of the Consumer Price Index published by the U.S. Bureau of Labor Statistics. It was developed to verify the accuracy of the [cpi](https://github.com/datadesk/cpi) open-source Python wrapper that eases access to the official government data. "
   ]
  },
  {
   "cell_type": "markdown",
   "metadata": {},
   "source": [
    "### Import Python tools"
   ]
  },
  {
   "cell_type": "code",
   "execution_count": 1,
   "metadata": {},
   "outputs": [],
   "source": [
    "import os\n",
    "import copy\n",
    "import pandas as pd\n",
    "import altair as alt\n",
    "from datetime import datetime, timedelta"
   ]
  },
  {
   "cell_type": "markdown",
   "metadata": {},
   "source": [
    "### Import the development version of this library"
   ]
  },
  {
   "cell_type": "code",
   "execution_count": 2,
   "metadata": {},
   "outputs": [],
   "source": [
    "import sys\n",
    "this_dir = os.path.dirname(os.getcwd())\n",
    "parent_dir = os.path.dirname(this_dir)\n",
    "sys.path.insert(0, this_dir) \n",
    "sys.path.insert(0, parent_dir) \n",
    "import cpi"
   ]
  },
  {
   "cell_type": "markdown",
   "metadata": {},
   "source": [
    "### Hack together a method to convert a CPI series to a pandas DataFrame\n",
    "\n",
    "It would be great to bake this kind of feature into the library in the future."
   ]
  },
  {
   "cell_type": "code",
   "execution_count": 3,
   "metadata": {},
   "outputs": [],
   "source": [
    "def to_df(series):\n",
    "    monthlies = sorted([i for i in series.indexes if i.period.type == 'monthly'], key=lambda x: x.date)\n",
    "    df_list = []\n",
    "    for m in monthlies:\n",
    "        d = copy.deepcopy(m.__dict__())\n",
    "        del d['series']\n",
    "        del d['period']\n",
    "        d['date'] = pd.to_datetime(m.date)\n",
    "        df_list.append(d)\n",
    "    return pd.DataFrame(df_list).sort_values(\"date\")"
   ]
  },
  {
   "cell_type": "markdown",
   "metadata": {},
   "source": [
    "### Match monthly analysis published by the BLS.\n",
    "\n",
    "In a July 2018 [press release](https://www.bls.gov/news.release/pdf/cpi.pdf) the BLS published the following chart showing the month to month percentage change in the Consumer Price Index for All Urban Consumers, also known as the CPI-U. We will replicate it below.\n",
    "\n",
    "![](https://i.imgur.com/zkLKG5B.png)"
   ]
  },
  {
   "cell_type": "markdown",
   "metadata": {},
   "source": [
    "Query the seasonally-adjusted CPI-U, which is the variation used by the BLS in its release."
   ]
  },
  {
   "cell_type": "code",
   "execution_count": 4,
   "metadata": {},
   "outputs": [],
   "source": [
    "adjusted_cpiu = to_df(cpi.series.get_by_id('CUSR0000SA0'))"
   ]
  },
  {
   "cell_type": "markdown",
   "metadata": {},
   "source": [
    "Calculate the monthly percentage change."
   ]
  },
  {
   "cell_type": "code",
   "execution_count": 5,
   "metadata": {},
   "outputs": [],
   "source": [
    "adjusted_cpiu['pct_change'] = (adjusted_cpiu.value.pct_change()*100)"
   ]
  },
  {
   "cell_type": "markdown",
   "metadata": {},
   "source": [
    "Round it in the same manner as the BLS."
   ]
  },
  {
   "cell_type": "code",
   "execution_count": 6,
   "metadata": {},
   "outputs": [],
   "source": [
    "adjusted_cpiu['pct_change_rounded'] = adjusted_cpiu['pct_change'].round(1)"
   ]
  },
  {
   "cell_type": "markdown",
   "metadata": {},
   "source": [
    "Trim down to the 13 most recent months of data."
   ]
  },
  {
   "cell_type": "code",
   "execution_count": 7,
   "metadata": {},
   "outputs": [],
   "source": [
    "last_13 = adjusted_cpiu.sort_values(\"date\").tail(13)"
   ]
  },
  {
   "cell_type": "markdown",
   "metadata": {},
   "source": [
    "Draw the chart."
   ]
  },
  {
   "cell_type": "code",
   "execution_count": 15,
   "metadata": {},
   "outputs": [
    {
     "ename": "TypeError",
     "evalue": "'int' object is not iterable",
     "output_type": "error",
     "traceback": [
      "\u001b[0;31m---------------------------------------------------------------------------\u001b[0m",
      "\u001b[0;31mTypeError\u001b[0m                                 Traceback (most recent call last)",
      "\u001b[0;32m<ipython-input-15-ab79ad07b15f>\u001b[0m in \u001b[0;36m<module>\u001b[0;34m()\u001b[0m\n\u001b[1;32m     27\u001b[0m     \u001b[0mbaseline\u001b[0m\u001b[0;34m=\u001b[0m\u001b[0;34m'middle'\u001b[0m\u001b[0;34m,\u001b[0m\u001b[0;34m\u001b[0m\u001b[0m\n\u001b[1;32m     28\u001b[0m     \u001b[0mfontSize\u001b[0m\u001b[0;34m=\u001b[0m\u001b[0;36m14\u001b[0m\u001b[0;34m,\u001b[0m\u001b[0;34m\u001b[0m\u001b[0m\n\u001b[0;32m---> 29\u001b[0;31m     \u001b[0mdy\u001b[0m\u001b[0;34m=\u001b[0m\u001b[0malt\u001b[0m\u001b[0;34m.\u001b[0m\u001b[0mcondition\u001b[0m\u001b[0;34m(\u001b[0m\u001b[0malt\u001b[0m\u001b[0;34m.\u001b[0m\u001b[0mdatum\u001b[0m\u001b[0;34m.\u001b[0m\u001b[0mpct_change_rounded\u001b[0m \u001b[0;34m>=\u001b[0m \u001b[0;36m0\u001b[0m\u001b[0;34m,\u001b[0m \u001b[0;36m12\u001b[0m\u001b[0;34m,\u001b[0m \u001b[0;34m-\u001b[0m\u001b[0;36m10\u001b[0m\u001b[0;34m)\u001b[0m\u001b[0;34m\u001b[0m\u001b[0m\n\u001b[0m\u001b[1;32m     30\u001b[0m )\n\u001b[1;32m     31\u001b[0m \u001b[0;34m\u001b[0m\u001b[0m\n",
      "\u001b[0;32m/home/palewire/.virtualenvs/cpi/src/altair/altair/vegalite/v2/api.py\u001b[0m in \u001b[0;36mcondition\u001b[0;34m(predicate, if_true, if_false, **kwargs)\u001b[0m\n\u001b[1;32m    333\u001b[0m         \u001b[0mif_true\u001b[0m \u001b[0;34m=\u001b[0m \u001b[0;34m{\u001b[0m\u001b[0;34m'shorthand'\u001b[0m\u001b[0;34m:\u001b[0m \u001b[0mif_true\u001b[0m\u001b[0;34m}\u001b[0m\u001b[0;34m\u001b[0m\u001b[0m\n\u001b[1;32m    334\u001b[0m         \u001b[0mif_true\u001b[0m\u001b[0;34m.\u001b[0m\u001b[0mupdate\u001b[0m\u001b[0;34m(\u001b[0m\u001b[0mkwargs\u001b[0m\u001b[0;34m)\u001b[0m\u001b[0;34m\u001b[0m\u001b[0m\n\u001b[0;32m--> 335\u001b[0;31m     \u001b[0mcondition\u001b[0m\u001b[0;34m.\u001b[0m\u001b[0mupdate\u001b[0m\u001b[0;34m(\u001b[0m\u001b[0mif_true\u001b[0m\u001b[0;34m)\u001b[0m\u001b[0;34m\u001b[0m\u001b[0m\n\u001b[0m\u001b[1;32m    336\u001b[0m \u001b[0;34m\u001b[0m\u001b[0m\n\u001b[1;32m    337\u001b[0m     \u001b[0;32mif\u001b[0m \u001b[0misinstance\u001b[0m\u001b[0;34m(\u001b[0m\u001b[0mif_false\u001b[0m\u001b[0;34m,\u001b[0m \u001b[0mcore\u001b[0m\u001b[0;34m.\u001b[0m\u001b[0mSchemaBase\u001b[0m\u001b[0;34m)\u001b[0m\u001b[0;34m:\u001b[0m\u001b[0;34m\u001b[0m\u001b[0m\n",
      "\u001b[0;31mTypeError\u001b[0m: 'int' object is not iterable"
     ]
    }
   ],
   "source": [
    "base = alt.Chart(\n",
    "    last_13, \n",
    "    title=\"One-month percent change in CPI for All Urban Consumers (CPI-U), seasonally adjusted\"\n",
    ").properties(width=700)\n",
    "\n",
    "bars = base.mark_bar().encode(\n",
    "    x=alt.X(\n",
    "        \"date:O\",\n",
    "        timeUnit=\"yearmonth\",\n",
    "        axis=alt.Axis(title=None, labelAngle=0, format=\"%b %y\"),\n",
    "    ),\n",
    "    y=alt.Y(\n",
    "        \"pct_change_rounded:Q\",\n",
    "        axis=alt.Axis(title=None),\n",
    "        scale=alt.Scale(domain=[\n",
    "            last_13['pct_change'].min()-0.1,\n",
    "            last_13['pct_change'].max()+0.05\n",
    "        ])\n",
    "    )\n",
    ")\n",
    "\n",
    "text = base.encode(\n",
    "    x=alt.X(\"date:O\", timeUnit=\"yearmonth\"),\n",
    "    y=\"pct_change_rounded:Q\",\n",
    "    text='pct_change_rounded',\n",
    "    align='center',\n",
    "    baseline='middle',\n",
    "    fontSize=14,\n",
    "    dy=alt.condition(alt.datum.pct_change_rounded >= 0, 12, -10)\n",
    ")\n",
    "\n",
    "bars + text"
   ]
  },
  {
   "cell_type": "markdown",
   "metadata": {},
   "source": [
    "### Dump the file to JSON"
   ]
  },
  {
   "cell_type": "code",
   "execution_count": 9,
   "metadata": {},
   "outputs": [],
   "source": [
    "last_13.to_json(\"./last_13.json\")"
   ]
  }
 ],
 "metadata": {
  "kernelspec": {
   "display_name": "Python 2",
   "language": "python",
   "name": "python2"
  },
  "language_info": {
   "codemirror_mode": {
    "name": "ipython",
    "version": 2
   },
   "file_extension": ".py",
   "mimetype": "text/x-python",
   "name": "python",
   "nbconvert_exporter": "python",
   "pygments_lexer": "ipython2",
   "version": "2.7.12"
  }
 },
 "nbformat": 4,
 "nbformat_minor": 2
}
