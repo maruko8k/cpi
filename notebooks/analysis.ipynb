{
 "cells": [
  {
   "cell_type": "markdown",
   "metadata": {},
   "source": [
    "# Consumer Price Index analysis\n",
    "\n",
    "By Ben Welsh\n",
    "\n",
    "A rudimentary analysis of the Consumer Price Index published by the U.S. Bureau of Labor Statistics. It was developed to verify the accuracy of my open-source Python wrapper that eases access to official government data. "
   ]
  },
  {
   "cell_type": "markdown",
   "metadata": {},
   "source": [
    "### Import Python tools"
   ]
  },
  {
   "cell_type": "code",
   "execution_count": 1,
   "metadata": {},
   "outputs": [],
   "source": [
    "import os\n",
    "import copy\n",
    "import pandas as pd\n",
    "import altair as alt\n",
    "from datetime import datetime, timedelta"
   ]
  },
  {
   "cell_type": "markdown",
   "metadata": {},
   "source": [
    "### Import the development version of this library"
   ]
  },
  {
   "cell_type": "code",
   "execution_count": 2,
   "metadata": {},
   "outputs": [],
   "source": [
    "import sys\n",
    "this_dir = os.path.dirname(os.getcwd())\n",
    "parent_dir = os.path.dirname(this_dir)\n",
    "sys.path.insert(0, this_dir) \n",
    "sys.path.insert(0, parent_dir) \n",
    "import cpi"
   ]
  },
  {
   "cell_type": "markdown",
   "metadata": {},
   "source": [
    "### Hack together a method to convert a CPI series to a pandas DataFrame\n",
    "\n",
    "It would be great to bake this kind of feature into the library in the future."
   ]
  },
  {
   "cell_type": "code",
   "execution_count": 3,
   "metadata": {},
   "outputs": [],
   "source": [
    "def to_df(series):\n",
    "    monthlies = sorted([i for i in series.indexes if i.period.type == 'monthly'], key=lambda x: x.date)\n",
    "    df_list = []\n",
    "    for m in monthlies:\n",
    "        d = copy.deepcopy(m.__dict__)\n",
    "        del d['series']\n",
    "        del d['period']\n",
    "        d['date'] = pd.to_datetime(m.date)\n",
    "        df_list.append(d)\n",
    "    return pd.DataFrame(df_list).sort_values(\"date\")"
   ]
  },
  {
   "cell_type": "markdown",
   "metadata": {},
   "source": [
    "### Match monthly analysis published by the BLS.\n",
    "\n",
    "In a July 2018 [press release](https://www.bls.gov/news.release/pdf/cpi.pdf) the BLS published the following chart showing the month to month percentage change in the Consumer Price Index for All Urban Consumers, also known as the CPI-U. We will replicate it below.\n",
    "\n",
    "![](https://i.imgur.com/zkLKG5B.png)"
   ]
  },
  {
   "cell_type": "markdown",
   "metadata": {},
   "source": [
    "Query the seasonally-adjusted CPI-U, which is the variation used by the BLS in its release."
   ]
  },
  {
   "cell_type": "code",
   "execution_count": 4,
   "metadata": {},
   "outputs": [],
   "source": [
    "adjusted_cpiu = to_df(cpi.SERIES_LIST.get_by_id('CUSR0000SA0'))"
   ]
  },
  {
   "cell_type": "markdown",
   "metadata": {},
   "source": [
    "Calculate the monthly percentage change."
   ]
  },
  {
   "cell_type": "code",
   "execution_count": 5,
   "metadata": {},
   "outputs": [],
   "source": [
    "adjusted_cpiu['pct_change'] = (adjusted_cpiu.value.pct_change()*100)"
   ]
  },
  {
   "cell_type": "markdown",
   "metadata": {},
   "source": [
    "Round it in the same manner as the BLS."
   ]
  },
  {
   "cell_type": "code",
   "execution_count": 6,
   "metadata": {},
   "outputs": [],
   "source": [
    "adjusted_cpiu['pct_change_rounded'] = adjusted_cpiu['pct_change'].round(1)"
   ]
  },
  {
   "cell_type": "markdown",
   "metadata": {},
   "source": [
    "Offset the dates one month into the future to deal with a bug in our charting library."
   ]
  },
  {
   "cell_type": "code",
   "execution_count": 7,
   "metadata": {},
   "outputs": [],
   "source": [
    "adjusted_cpiu['date_label'] = adjusted_cpiu['date'].apply(lambda x: x + pd.DateOffset(months=1))"
   ]
  },
  {
   "cell_type": "markdown",
   "metadata": {},
   "source": [
    "Trim down to the 13 most recent months of data."
   ]
  },
  {
   "cell_type": "code",
   "execution_count": 8,
   "metadata": {},
   "outputs": [],
   "source": [
    "last_13 = adjusted_cpiu.sort_values(\"date\").tail(13)"
   ]
  },
  {
   "cell_type": "markdown",
   "metadata": {},
   "source": [
    "Draw the chart."
   ]
  },
  {
   "cell_type": "code",
   "execution_count": 9,
   "metadata": {},
   "outputs": [
    {
     "data": {
      "application/vnd.vegalite.v2+json": {
       "$schema": "https://vega.github.io/schema/vega-lite/v2.4.3.json",
       "config": {
        "view": {
         "height": 300,
         "width": 400
        }
       },
       "layer": [
        {
         "data": {
          "values": [
           {
            "date": "2017-06-01",
            "date_label": "2017-07-01",
            "pct_change": 0.04960825875011121,
            "pct_change_rounded": 0,
            "value": 244.032,
            "year": 2017
           },
           {
            "date": "2017-07-01",
            "date_label": "2017-08-01",
            "pct_change": 0.08359559402044692,
            "pct_change_rounded": 0.1,
            "value": 244.236,
            "year": 2017
           },
           {
            "date": "2017-08-01",
            "date_label": "2017-09-01",
            "pct_change": 0.42008549108238924,
            "pct_change_rounded": 0.4,
            "value": 245.262,
            "year": 2017
           },
           {
            "date": "2017-09-01",
            "date_label": "2017-10-01",
            "pct_change": 0.46073178886252286,
            "pct_change_rounded": 0.5,
            "value": 246.392,
            "year": 2017
           },
           {
            "date": "2017-10-01",
            "date_label": "2017-11-01",
            "pct_change": 0.07751875060879598,
            "pct_change_rounded": 0.1,
            "value": 246.583,
            "year": 2017
           },
           {
            "date": "2017-11-01",
            "date_label": "2017-12-01",
            "pct_change": 0.3357895718683057,
            "pct_change_rounded": 0.3,
            "value": 247.411,
            "year": 2017
           },
           {
            "date": "2017-12-01",
            "date_label": "2018-01-01",
            "pct_change": 0.20168868805348072,
            "pct_change_rounded": 0.2,
            "value": 247.91,
            "year": 2017
           },
           {
            "date": "2018-01-01",
            "date_label": "2018-02-01",
            "pct_change": 0.538501875680697,
            "pct_change_rounded": 0.5,
            "value": 249.245,
            "year": 2018
           },
           {
            "date": "2018-02-01",
            "date_label": "2018-03-01",
            "pct_change": 0.15005316054483853,
            "pct_change_rounded": 0.2,
            "value": 249.619,
            "year": 2018
           },
           {
            "date": "2018-03-01",
            "date_label": "2018-04-01",
            "pct_change": -0.06289585328040914,
            "pct_change_rounded": -0.1,
            "value": 249.462,
            "year": 2018
           },
           {
            "date": "2018-04-01",
            "date_label": "2018-05-01",
            "pct_change": 0.2208753236966121,
            "pct_change_rounded": 0.2,
            "value": 250.013,
            "year": 2018
           },
           {
            "date": "2018-05-01",
            "date_label": "2018-06-01",
            "pct_change": 0.20878914296456053,
            "pct_change_rounded": 0.2,
            "value": 250.535,
            "year": 2018
           },
           {
            "date": "2018-06-01",
            "date_label": "2018-07-01",
            "pct_change": 0.12852495659290142,
            "pct_change_rounded": 0.1,
            "value": 250.857,
            "year": 2018
           }
          ]
         },
         "encoding": {
          "x": {
           "axis": {
            "labelAngle": 0,
            "title": null
           },
           "field": "date_label",
           "timeUnit": "yearmonth",
           "type": "ordinal"
          },
          "y": {
           "axis": {
            "title": null
           },
           "field": "pct_change_rounded",
           "scale": {
            "domain": [
             -0.16289585328040915,
             0.588501875680697
            ]
           },
           "type": "quantitative"
          }
         },
         "mark": "bar",
         "title": "One-month percent change in CPI for All Urban Consumers (CPI-U), seasonally adjusted",
         "width": 700
        },
        {
         "data": {
          "values": [
           {
            "date": "2017-06-01",
            "date_label": "2017-07-01",
            "pct_change": 0.04960825875011121,
            "pct_change_rounded": 0,
            "value": 244.032,
            "year": 2017
           },
           {
            "date": "2017-07-01",
            "date_label": "2017-08-01",
            "pct_change": 0.08359559402044692,
            "pct_change_rounded": 0.1,
            "value": 244.236,
            "year": 2017
           },
           {
            "date": "2017-08-01",
            "date_label": "2017-09-01",
            "pct_change": 0.42008549108238924,
            "pct_change_rounded": 0.4,
            "value": 245.262,
            "year": 2017
           },
           {
            "date": "2017-09-01",
            "date_label": "2017-10-01",
            "pct_change": 0.46073178886252286,
            "pct_change_rounded": 0.5,
            "value": 246.392,
            "year": 2017
           },
           {
            "date": "2017-10-01",
            "date_label": "2017-11-01",
            "pct_change": 0.07751875060879598,
            "pct_change_rounded": 0.1,
            "value": 246.583,
            "year": 2017
           },
           {
            "date": "2017-11-01",
            "date_label": "2017-12-01",
            "pct_change": 0.3357895718683057,
            "pct_change_rounded": 0.3,
            "value": 247.411,
            "year": 2017
           },
           {
            "date": "2017-12-01",
            "date_label": "2018-01-01",
            "pct_change": 0.20168868805348072,
            "pct_change_rounded": 0.2,
            "value": 247.91,
            "year": 2017
           },
           {
            "date": "2018-01-01",
            "date_label": "2018-02-01",
            "pct_change": 0.538501875680697,
            "pct_change_rounded": 0.5,
            "value": 249.245,
            "year": 2018
           },
           {
            "date": "2018-02-01",
            "date_label": "2018-03-01",
            "pct_change": 0.15005316054483853,
            "pct_change_rounded": 0.2,
            "value": 249.619,
            "year": 2018
           },
           {
            "date": "2018-03-01",
            "date_label": "2018-04-01",
            "pct_change": -0.06289585328040914,
            "pct_change_rounded": -0.1,
            "value": 249.462,
            "year": 2018
           },
           {
            "date": "2018-04-01",
            "date_label": "2018-05-01",
            "pct_change": 0.2208753236966121,
            "pct_change_rounded": 0.2,
            "value": 250.013,
            "year": 2018
           },
           {
            "date": "2018-05-01",
            "date_label": "2018-06-01",
            "pct_change": 0.20878914296456053,
            "pct_change_rounded": 0.2,
            "value": 250.535,
            "year": 2018
           },
           {
            "date": "2018-06-01",
            "date_label": "2018-07-01",
            "pct_change": 0.12852495659290142,
            "pct_change_rounded": 0.1,
            "value": 250.857,
            "year": 2018
           }
          ]
         },
         "encoding": {
          "text": {
           "field": "pct_change_rounded",
           "type": "quantitative"
          },
          "x": {
           "field": "date_label",
           "timeUnit": "yearmonth",
           "type": "ordinal"
          },
          "y": {
           "field": "pct_change_rounded",
           "type": "quantitative"
          }
         },
         "mark": {
          "align": "center",
          "baseline": "middle",
          "dy": -10,
          "fontSize": 14,
          "type": "text"
         },
         "title": "One-month percent change in CPI for All Urban Consumers (CPI-U), seasonally adjusted",
         "transform": [
          {
           "filter": "(datum.pct_change > 0)"
          }
         ],
         "width": 700
        },
        {
         "data": {
          "values": [
           {
            "date": "2017-06-01",
            "date_label": "2017-07-01",
            "pct_change": 0.04960825875011121,
            "pct_change_rounded": 0,
            "value": 244.032,
            "year": 2017
           },
           {
            "date": "2017-07-01",
            "date_label": "2017-08-01",
            "pct_change": 0.08359559402044692,
            "pct_change_rounded": 0.1,
            "value": 244.236,
            "year": 2017
           },
           {
            "date": "2017-08-01",
            "date_label": "2017-09-01",
            "pct_change": 0.42008549108238924,
            "pct_change_rounded": 0.4,
            "value": 245.262,
            "year": 2017
           },
           {
            "date": "2017-09-01",
            "date_label": "2017-10-01",
            "pct_change": 0.46073178886252286,
            "pct_change_rounded": 0.5,
            "value": 246.392,
            "year": 2017
           },
           {
            "date": "2017-10-01",
            "date_label": "2017-11-01",
            "pct_change": 0.07751875060879598,
            "pct_change_rounded": 0.1,
            "value": 246.583,
            "year": 2017
           },
           {
            "date": "2017-11-01",
            "date_label": "2017-12-01",
            "pct_change": 0.3357895718683057,
            "pct_change_rounded": 0.3,
            "value": 247.411,
            "year": 2017
           },
           {
            "date": "2017-12-01",
            "date_label": "2018-01-01",
            "pct_change": 0.20168868805348072,
            "pct_change_rounded": 0.2,
            "value": 247.91,
            "year": 2017
           },
           {
            "date": "2018-01-01",
            "date_label": "2018-02-01",
            "pct_change": 0.538501875680697,
            "pct_change_rounded": 0.5,
            "value": 249.245,
            "year": 2018
           },
           {
            "date": "2018-02-01",
            "date_label": "2018-03-01",
            "pct_change": 0.15005316054483853,
            "pct_change_rounded": 0.2,
            "value": 249.619,
            "year": 2018
           },
           {
            "date": "2018-03-01",
            "date_label": "2018-04-01",
            "pct_change": -0.06289585328040914,
            "pct_change_rounded": -0.1,
            "value": 249.462,
            "year": 2018
           },
           {
            "date": "2018-04-01",
            "date_label": "2018-05-01",
            "pct_change": 0.2208753236966121,
            "pct_change_rounded": 0.2,
            "value": 250.013,
            "year": 2018
           },
           {
            "date": "2018-05-01",
            "date_label": "2018-06-01",
            "pct_change": 0.20878914296456053,
            "pct_change_rounded": 0.2,
            "value": 250.535,
            "year": 2018
           },
           {
            "date": "2018-06-01",
            "date_label": "2018-07-01",
            "pct_change": 0.12852495659290142,
            "pct_change_rounded": 0.1,
            "value": 250.857,
            "year": 2018
           }
          ]
         },
         "encoding": {
          "text": {
           "field": "pct_change_rounded",
           "type": "quantitative"
          },
          "x": {
           "field": "date_label",
           "timeUnit": "yearmonth",
           "type": "ordinal"
          },
          "y": {
           "field": "pct_change_rounded",
           "type": "quantitative"
          }
         },
         "mark": {
          "align": "center",
          "baseline": "middle",
          "dy": 12,
          "fontSize": 14,
          "type": "text"
         },
         "title": "One-month percent change in CPI for All Urban Consumers (CPI-U), seasonally adjusted",
         "transform": [
          {
           "filter": "(datum.pct_change < 0)"
          }
         ],
         "width": 700
        }
       ]
      },
      "image/png": "[encoded data removed]",
      "text/plain": [
       "<VegaLite 2 object>\n",
       "\n",
       "If you see this message, it means the renderer has not been properly enabled\n",
       "for the frontend that you are using. For more information, see\n",
       "https://altair-viz.github.io/user_guide/troubleshooting.html\n"
      ]
     },
     "execution_count": 9,
     "metadata": {},
     "output_type": "execute_result"
    }
   ],
   "source": [
    "base = alt.Chart(\n",
    "    last_13, \n",
    "    title=\"One-month percent change in CPI for All Urban Consumers (CPI-U), seasonally adjusted\"\n",
    ").properties(width=700)\n",
    "\n",
    "bars = base.mark_bar().encode(\n",
    "    x=alt.X(\n",
    "        \"date_label:O\",\n",
    "        timeUnit=\"yearmonth\",\n",
    "        axis=alt.Axis(title=None, labelAngle=0),\n",
    "    ),\n",
    "    y=alt.Y(\n",
    "        \"pct_change_rounded:Q\",\n",
    "        axis=alt.Axis(title=None),\n",
    "        scale=alt.Scale(domain=[\n",
    "            last_13['pct_change'].min()-0.1,\n",
    "            last_13['pct_change'].max()+0.05\n",
    "        ])\n",
    "    )\n",
    ")\n",
    "\n",
    "text = base.encode(\n",
    "    x=alt.X(\"date_label:O\", timeUnit=\"yearmonth\"),\n",
    "    y=\"pct_change_rounded:Q\",\n",
    "    text='pct_change_rounded'\n",
    ")\n",
    "\n",
    "textAbove = text.transform_filter(alt.datum.pct_change > 0).mark_text(\n",
    "    align='center',\n",
    "    baseline='middle',\n",
    "    fontSize=14,\n",
    "    dy=-10\n",
    ")\n",
    "\n",
    "textBelow = text.transform_filter(alt.datum.pct_change < 0).mark_text(\n",
    "    align='center',\n",
    "    baseline='middle',\n",
    "    fontSize=14,\n",
    "    dy=12\n",
    ")\n",
    "\n",
    "bars + textAbove + textBelow"
   ]
  }
 ],
 "metadata": {
  "kernelspec": {
   "display_name": "Python 2",
   "language": "python",
   "name": "python2"
  },
  "language_info": {
   "codemirror_mode": {
    "name": "ipython",
    "version": 2
   },
   "file_extension": ".py",
   "mimetype": "text/x-python",
   "name": "python",
   "nbconvert_exporter": "python",
   "pygments_lexer": "ipython2",
   "version": "2.7.12"
  }
 },
 "nbformat": 4,
 "nbformat_minor": 2
}
